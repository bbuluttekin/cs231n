{
  "nbformat": 4,
  "nbformat_minor": 0,
  "metadata": {
    "kernelspec": {
      "display_name": "Python 3",
      "language": "python",
      "name": "python3"
    },
    "language_info": {
      "codemirror_mode": {
        "name": "ipython",
        "version": 3
      },
      "file_extension": ".py",
      "mimetype": "text/x-python",
      "name": "python",
      "nbconvert_exporter": "python",
      "pygments_lexer": "ipython3",
      "version": "3.7.1"
    },
    "colab": {
      "name": "features.ipynb",
      "provenance": [],
      "toc_visible": true
    }
  },
  "cells": [
    {
      "cell_type": "markdown",
      "metadata": {
        "tags": [
          "pdf-title"
        ],
        "id": "CFyangZTHURU",
        "colab_type": "text"
      },
      "source": [
        "# Image features exercise\n",
        "*Complete and hand in this completed worksheet (including its outputs and any supporting code outside of the worksheet) with your assignment submission. For more details see the [assignments page](http://vision.stanford.edu/teaching/cs231n/assignments.html) on the course website.*\n",
        "\n",
        "We have seen that we can achieve reasonable performance on an image classification task by training a linear classifier on the pixels of the input image. In this exercise we will show that we can improve our classification performance by training linear classifiers not on raw pixels but on features that are computed from the raw pixels.\n",
        "\n",
        "All of your work for this exercise will be done in this notebook."
      ]
    },
    {
      "cell_type": "code",
      "metadata": {
        "id": "Nni1_bKzHZZ1",
        "colab_type": "code",
        "colab": {
          "base_uri": "https://localhost:8080/",
          "height": 1000
        },
        "outputId": "dfe109f7-f107-4984-fc94-083f18127687"
      },
      "source": [
        "!wget --quiet https://raw.githubusercontent.com/bbuluttekin/cs231n/master/get-files-2019.sh\n",
        "!bash get-files-2019.sh"
      ],
      "execution_count": 1,
      "outputs": [
        {
          "output_type": "stream",
          "text": [
            "Archive:  spring1819_assignment1.zip\n",
            "   creating: assignment1/\n",
            "  inflating: assignment1/.gitignore  \n",
            "  inflating: assignment1/collectSubmission.sh  \n",
            "   creating: assignment1/cs231n/\n",
            "   creating: assignment1/cs231n/classifiers/\n",
            "  inflating: assignment1/cs231n/classifiers/k_nearest_neighbor.py  \n",
            "  inflating: assignment1/cs231n/classifiers/linear_classifier.py  \n",
            "  inflating: assignment1/cs231n/classifiers/linear_svm.py  \n",
            "  inflating: assignment1/cs231n/classifiers/neural_net.py  \n",
            "  inflating: assignment1/cs231n/classifiers/softmax.py  \n",
            "  inflating: assignment1/cs231n/classifiers/__init__.py  \n",
            "   creating: assignment1/cs231n/datasets/\n",
            "  inflating: assignment1/cs231n/datasets/.gitignore  \n",
            "  inflating: assignment1/cs231n/datasets/get_datasets.sh  \n",
            "  inflating: assignment1/cs231n/data_utils.py  \n",
            "  inflating: assignment1/cs231n/features.py  \n",
            "  inflating: assignment1/cs231n/gradient_check.py  \n",
            "  inflating: assignment1/cs231n/vis_utils.py  \n",
            " extracting: assignment1/cs231n/__init__.py  \n",
            "  inflating: assignment1/features.ipynb  \n",
            "  inflating: assignment1/frameworkpython  \n",
            "  inflating: assignment1/knn.ipynb   \n",
            "  inflating: assignment1/README.md   \n",
            "  inflating: assignment1/requirements.txt  \n",
            "  inflating: assignment1/softmax.ipynb  \n",
            "  inflating: assignment1/start_ipython_osx.sh  \n",
            "  inflating: assignment1/svm.ipynb   \n",
            "  inflating: assignment1/two_layer_net.ipynb  \n",
            "--2020-01-19 14:04:51--  http://www.cs.toronto.edu/~kriz/cifar-10-python.tar.gz\n",
            "Resolving www.cs.toronto.edu (www.cs.toronto.edu)... 128.100.3.30\n",
            "Connecting to www.cs.toronto.edu (www.cs.toronto.edu)|128.100.3.30|:80... connected.\n",
            "HTTP request sent, awaiting response... 200 OK\n",
            "Length: 170498071 (163M) [application/x-gzip]\n",
            "Saving to: ‘cifar-10-python.tar.gz’\n",
            "\n",
            "cifar-10-python.tar 100%[===================>] 162.60M  30.5MB/s    in 5.9s    \n",
            "\n",
            "2020-01-19 14:04:58 (27.3 MB/s) - ‘cifar-10-python.tar.gz’ saved [170498071/170498071]\n",
            "\n",
            "cifar-10-batches-py/\n",
            "cifar-10-batches-py/data_batch_4\n",
            "cifar-10-batches-py/readme.html\n",
            "cifar-10-batches-py/test_batch\n",
            "cifar-10-batches-py/data_batch_3\n",
            "cifar-10-batches-py/batches.meta\n",
            "cifar-10-batches-py/data_batch_2\n",
            "cifar-10-batches-py/data_batch_5\n",
            "cifar-10-batches-py/data_batch_1\n",
            "\u001b[K     |████████████████████████████████| 163kB 12.4MB/s \n",
            "\u001b[K     |████████████████████████████████| 829kB 22.6MB/s \n",
            "\u001b[K     |████████████████████████████████| 71kB 8.3MB/s \n",
            "\u001b[K     |████████████████████████████████| 450kB 56.0MB/s \n",
            "\u001b[K     |████████████████████████████████| 122kB 45.3MB/s \n",
            "\u001b[K     |████████████████████████████████| 778kB 45.9MB/s \n",
            "\u001b[K     |████████████████████████████████| 112kB 47.5MB/s \n",
            "\u001b[K     |████████████████████████████████| 184kB 37.0MB/s \n",
            "\u001b[K     |████████████████████████████████| 133kB 46.5MB/s \n",
            "\u001b[K     |████████████████████████████████| 61kB 7.7MB/s \n",
            "\u001b[K     |████████████████████████████████| 92kB 11.0MB/s \n",
            "\u001b[K     |████████████████████████████████| 133kB 52.5MB/s \n",
            "\u001b[K     |████████████████████████████████| 14.7MB 336kB/s \n",
            "\u001b[K     |████████████████████████████████| 952kB 48.4MB/s \n",
            "\u001b[K     |████████████████████████████████| 13.0MB 15.2MB/s \n",
            "\u001b[K     |████████████████████████████████| 409kB 60.7MB/s \n",
            "\u001b[K     |████████████████████████████████| 3.4MB 52.5MB/s \n",
            "\u001b[K     |████████████████████████████████| 163kB 50.4MB/s \n",
            "\u001b[K     |████████████████████████████████| 9.0MB 55.9MB/s \n",
            "\u001b[K     |████████████████████████████████| 17.3MB 241kB/s \n",
            "\u001b[K     |████████████████████████████████| 102kB 11.5MB/s \n",
            "\u001b[K     |████████████████████████████████| 61kB 7.3MB/s \n",
            "\u001b[K     |████████████████████████████████| 2.0MB 38.4MB/s \n",
            "\u001b[K     |████████████████████████████████| 337kB 56.0MB/s \n",
            "\u001b[K     |████████████████████████████████| 849kB 46.6MB/s \n",
            "\u001b[K     |████████████████████████████████| 71kB 9.5MB/s \n",
            "\u001b[K     |████████████████████████████████| 112kB 45.5MB/s \n",
            "\u001b[K     |████████████████████████████████| 235kB 27.8MB/s \n",
            "\u001b[K     |████████████████████████████████| 1.1MB 34.0MB/s \n",
            "\u001b[K     |████████████████████████████████| 122kB 59.9MB/s \n",
            "\u001b[K     |████████████████████████████████| 24.8MB 1.4MB/s \n",
            "\u001b[K     |████████████████████████████████| 163kB 52.0MB/s \n",
            "\u001b[K     |████████████████████████████████| 491kB 45.3MB/s \n",
            "\u001b[K     |████████████████████████████████| 81kB 10.0MB/s \n",
            "\u001b[K     |████████████████████████████████| 122kB 53.2MB/s \n",
            "\u001b[K     |████████████████████████████████| 2.2MB 34.0MB/s \n",
            "\u001b[?25h  Building wheel for future (setup.py) ... \u001b[?25l\u001b[?25hdone\n",
            "  Building wheel for prometheus-client (setup.py) ... \u001b[?25l\u001b[?25hdone\n",
            "  Building wheel for pyrsistent (setup.py) ... \u001b[?25l\u001b[?25hdone\n",
            "  Building wheel for tornado (setup.py) ... \u001b[?25l\u001b[?25hdone\n",
            "\u001b[31mERROR: plotnine 0.6.0 has requirement matplotlib>=3.1.1, but you'll have matplotlib 3.0.3 which is incompatible.\u001b[0m\n",
            "\u001b[31mERROR: mizani 0.6.0 has requirement matplotlib>=3.1.1, but you'll have matplotlib 3.0.3 which is incompatible.\u001b[0m\n",
            "\u001b[31mERROR: google-colab 1.0.0 has requirement ipykernel~=4.6.0, but you'll have ipykernel 5.1.0 which is incompatible.\u001b[0m\n",
            "\u001b[31mERROR: google-colab 1.0.0 has requirement ipython~=5.5.0, but you'll have ipython 7.4.0 which is incompatible.\u001b[0m\n",
            "\u001b[31mERROR: google-colab 1.0.0 has requirement notebook~=5.2.0, but you'll have notebook 5.7.8 which is incompatible.\u001b[0m\n",
            "\u001b[31mERROR: google-colab 1.0.0 has requirement tornado~=4.5.0, but you'll have tornado 6.0.2 which is incompatible.\u001b[0m\n",
            "\u001b[31mERROR: flask 1.1.1 has requirement Jinja2>=2.10.1, but you'll have jinja2 2.10 which is incompatible.\u001b[0m\n",
            "\u001b[31mERROR: datascience 0.10.6 has requirement folium==0.2.1, but you'll have folium 0.8.3 which is incompatible.\u001b[0m\n",
            "\u001b[31mERROR: albumentations 0.1.12 has requirement imgaug<0.2.7,>=0.2.5, but you'll have imgaug 0.2.9 which is incompatible.\u001b[0m\n"
          ],
          "name": "stdout"
        }
      ]
    },
    {
      "cell_type": "code",
      "metadata": {
        "tags": [
          "pdf-ignore"
        ],
        "id": "_afn0c5KHURZ",
        "colab_type": "code",
        "colab": {}
      },
      "source": [
        "import random\n",
        "import numpy as np\n",
        "from cs231n.data_utils import load_CIFAR10\n",
        "import matplotlib.pyplot as plt\n",
        "\n",
        "\n",
        "%matplotlib inline\n",
        "plt.rcParams['figure.figsize'] = (10.0, 8.0) # set default size of plots\n",
        "plt.rcParams['image.interpolation'] = 'nearest'\n",
        "plt.rcParams['image.cmap'] = 'gray'\n",
        "\n",
        "# for auto-reloading extenrnal modules\n",
        "# see http://stackoverflow.com/questions/1907993/autoreload-of-modules-in-ipython\n",
        "%load_ext autoreload\n",
        "%autoreload 2"
      ],
      "execution_count": 0,
      "outputs": []
    },
    {
      "cell_type": "markdown",
      "metadata": {
        "tags": [
          "pdf-ignore"
        ],
        "id": "TADjSy9wHURf",
        "colab_type": "text"
      },
      "source": [
        "## Load data\n",
        "Similar to previous exercises, we will load CIFAR-10 data from disk."
      ]
    },
    {
      "cell_type": "code",
      "metadata": {
        "tags": [
          "pdf-ignore"
        ],
        "id": "-3k4zEF3HURf",
        "colab_type": "code",
        "colab": {}
      },
      "source": [
        "from cs231n.features import color_histogram_hsv, hog_feature\n",
        "\n",
        "def get_CIFAR10_data(num_training=49000, num_validation=1000, num_test=1000):\n",
        "    # Load the raw CIFAR-10 data\n",
        "    cifar10_dir = 'cifar-10-batches-py'\n",
        "\n",
        "    # Cleaning up variables to prevent loading data multiple times (which may cause memory issue)\n",
        "    try:\n",
        "       del X_train, y_train\n",
        "       del X_test, y_test\n",
        "       print('Clear previously loaded data.')\n",
        "    except:\n",
        "       pass\n",
        "\n",
        "    X_train, y_train, X_test, y_test = load_CIFAR10(cifar10_dir)\n",
        "    \n",
        "    # Subsample the data\n",
        "    mask = list(range(num_training, num_training + num_validation))\n",
        "    X_val = X_train[mask]\n",
        "    y_val = y_train[mask]\n",
        "    mask = list(range(num_training))\n",
        "    X_train = X_train[mask]\n",
        "    y_train = y_train[mask]\n",
        "    mask = list(range(num_test))\n",
        "    X_test = X_test[mask]\n",
        "    y_test = y_test[mask]\n",
        "    \n",
        "    return X_train, y_train, X_val, y_val, X_test, y_test\n",
        "\n",
        "X_train, y_train, X_val, y_val, X_test, y_test = get_CIFAR10_data()"
      ],
      "execution_count": 0,
      "outputs": []
    },
    {
      "cell_type": "markdown",
      "metadata": {
        "tags": [
          "pdf-ignore"
        ],
        "id": "GF7FWrU1HURj",
        "colab_type": "text"
      },
      "source": [
        "## Extract Features\n",
        "For each image we will compute a Histogram of Oriented\n",
        "Gradients (HOG) as well as a color histogram using the hue channel in HSV\n",
        "color space. We form our final feature vector for each image by concatenating\n",
        "the HOG and color histogram feature vectors.\n",
        "\n",
        "Roughly speaking, HOG should capture the texture of the image while ignoring\n",
        "color information, and the color histogram represents the color of the input\n",
        "image while ignoring texture. As a result, we expect that using both together\n",
        "ought to work better than using either alone. Verifying this assumption would\n",
        "be a good thing to try for your own interest.\n",
        "\n",
        "The `hog_feature` and `color_histogram_hsv` functions both operate on a single\n",
        "image and return a feature vector for that image. The extract_features\n",
        "function takes a set of images and a list of feature functions and evaluates\n",
        "each feature function on each image, storing the results in a matrix where\n",
        "each column is the concatenation of all feature vectors for a single image."
      ]
    },
    {
      "cell_type": "code",
      "metadata": {
        "scrolled": true,
        "tags": [
          "pdf-ignore"
        ],
        "id": "sKBbu7SmHURk",
        "colab_type": "code",
        "colab": {
          "base_uri": "https://localhost:8080/",
          "height": 899
        },
        "outputId": "0ee3671d-e940-40dd-fef4-009b46e1552c"
      },
      "source": [
        "from cs231n.features import *\n",
        "\n",
        "num_color_bins = 10 # Number of bins in the color histogram\n",
        "feature_fns = [hog_feature, lambda img: color_histogram_hsv(img, nbin=num_color_bins)]\n",
        "X_train_feats = extract_features(X_train, feature_fns, verbose=True)\n",
        "X_val_feats = extract_features(X_val, feature_fns)\n",
        "X_test_feats = extract_features(X_test, feature_fns)\n",
        "\n",
        "# Preprocessing: Subtract the mean feature\n",
        "mean_feat = np.mean(X_train_feats, axis=0, keepdims=True)\n",
        "X_train_feats -= mean_feat\n",
        "X_val_feats -= mean_feat\n",
        "X_test_feats -= mean_feat\n",
        "\n",
        "# Preprocessing: Divide by standard deviation. This ensures that each feature\n",
        "# has roughly the same scale.\n",
        "std_feat = np.std(X_train_feats, axis=0, keepdims=True)\n",
        "X_train_feats /= std_feat\n",
        "X_val_feats /= std_feat\n",
        "X_test_feats /= std_feat\n",
        "\n",
        "# Preprocessing: Add a bias dimension\n",
        "X_train_feats = np.hstack([X_train_feats, np.ones((X_train_feats.shape[0], 1))])\n",
        "X_val_feats = np.hstack([X_val_feats, np.ones((X_val_feats.shape[0], 1))])\n",
        "X_test_feats = np.hstack([X_test_feats, np.ones((X_test_feats.shape[0], 1))])"
      ],
      "execution_count": 4,
      "outputs": [
        {
          "output_type": "stream",
          "text": [
            "Done extracting features for 1000 / 49000 images\n",
            "Done extracting features for 2000 / 49000 images\n",
            "Done extracting features for 3000 / 49000 images\n",
            "Done extracting features for 4000 / 49000 images\n",
            "Done extracting features for 5000 / 49000 images\n",
            "Done extracting features for 6000 / 49000 images\n",
            "Done extracting features for 7000 / 49000 images\n",
            "Done extracting features for 8000 / 49000 images\n",
            "Done extracting features for 9000 / 49000 images\n",
            "Done extracting features for 10000 / 49000 images\n",
            "Done extracting features for 11000 / 49000 images\n",
            "Done extracting features for 12000 / 49000 images\n",
            "Done extracting features for 13000 / 49000 images\n",
            "Done extracting features for 14000 / 49000 images\n",
            "Done extracting features for 15000 / 49000 images\n",
            "Done extracting features for 16000 / 49000 images\n",
            "Done extracting features for 17000 / 49000 images\n",
            "Done extracting features for 18000 / 49000 images\n",
            "Done extracting features for 19000 / 49000 images\n",
            "Done extracting features for 20000 / 49000 images\n",
            "Done extracting features for 21000 / 49000 images\n",
            "Done extracting features for 22000 / 49000 images\n",
            "Done extracting features for 23000 / 49000 images\n",
            "Done extracting features for 24000 / 49000 images\n",
            "Done extracting features for 25000 / 49000 images\n",
            "Done extracting features for 26000 / 49000 images\n",
            "Done extracting features for 27000 / 49000 images\n",
            "Done extracting features for 28000 / 49000 images\n",
            "Done extracting features for 29000 / 49000 images\n",
            "Done extracting features for 30000 / 49000 images\n",
            "Done extracting features for 31000 / 49000 images\n",
            "Done extracting features for 32000 / 49000 images\n",
            "Done extracting features for 33000 / 49000 images\n",
            "Done extracting features for 34000 / 49000 images\n",
            "Done extracting features for 35000 / 49000 images\n",
            "Done extracting features for 36000 / 49000 images\n",
            "Done extracting features for 37000 / 49000 images\n",
            "Done extracting features for 38000 / 49000 images\n",
            "Done extracting features for 39000 / 49000 images\n",
            "Done extracting features for 40000 / 49000 images\n",
            "Done extracting features for 41000 / 49000 images\n",
            "Done extracting features for 42000 / 49000 images\n",
            "Done extracting features for 43000 / 49000 images\n",
            "Done extracting features for 44000 / 49000 images\n",
            "Done extracting features for 45000 / 49000 images\n",
            "Done extracting features for 46000 / 49000 images\n",
            "Done extracting features for 47000 / 49000 images\n",
            "Done extracting features for 48000 / 49000 images\n",
            "Done extracting features for 49000 / 49000 images\n"
          ],
          "name": "stdout"
        }
      ]
    },
    {
      "cell_type": "markdown",
      "metadata": {
        "id": "a1FxkH5MHURm",
        "colab_type": "text"
      },
      "source": [
        "## Train SVM on features\n",
        "Using the multiclass SVM code developed earlier in the assignment, train SVMs on top of the features extracted above; this should achieve better results than training SVMs directly on top of raw pixels."
      ]
    },
    {
      "cell_type": "code",
      "metadata": {
        "tags": [
          "code"
        ],
        "id": "HhZ6fbYvHURn",
        "colab_type": "code",
        "colab": {}
      },
      "source": [
        "# Use the validation set to tune the learning rate and regularization strength\n",
        "\n",
        "from cs231n.classifiers.linear_classifier import LinearSVM\n",
        "\n",
        "learning_rates = [1e-9, 1e-8, 1e-7]\n",
        "regularization_strengths = [5e4, 5e5, 5e6]\n",
        "\n",
        "results = {}\n",
        "best_val = -1\n",
        "best_svm = None\n",
        "\n",
        "################################################################################\n",
        "# TODO:                                                                        #\n",
        "# Use the validation set to set the learning rate and regularization strength. #\n",
        "# This should be identical to the validation that you did for the SVM; save    #\n",
        "# the best trained classifer in best_svm. You might also want to play          #\n",
        "# with different numbers of bins in the color histogram. If you are careful    #\n",
        "# you should be able to get accuracy of near 0.44 on the validation set.       #\n",
        "################################################################################\n",
        "# *****START OF YOUR CODE (DO NOT DELETE/MODIFY THIS LINE)*****\n",
        "\n",
        "pass\n",
        "\n",
        "# *****END OF YOUR CODE (DO NOT DELETE/MODIFY THIS LINE)*****\n",
        "\n",
        "# Print out results.\n",
        "for lr, reg in sorted(results):\n",
        "    train_accuracy, val_accuracy = results[(lr, reg)]\n",
        "    print('lr %e reg %e train accuracy: %f val accuracy: %f' % (\n",
        "                lr, reg, train_accuracy, val_accuracy))\n",
        "    \n",
        "print('best validation accuracy achieved during cross-validation: %f' % best_val)"
      ],
      "execution_count": 0,
      "outputs": []
    },
    {
      "cell_type": "code",
      "metadata": {
        "id": "IUqh6mbkHURr",
        "colab_type": "code",
        "colab": {}
      },
      "source": [
        "# Evaluate your trained SVM on the test set\n",
        "y_test_pred = best_svm.predict(X_test_feats)\n",
        "test_accuracy = np.mean(y_test == y_test_pred)\n",
        "print(test_accuracy)"
      ],
      "execution_count": 0,
      "outputs": []
    },
    {
      "cell_type": "code",
      "metadata": {
        "id": "qPZNy4eOHURt",
        "colab_type": "code",
        "colab": {}
      },
      "source": [
        "# An important way to gain intuition about how an algorithm works is to\n",
        "# visualize the mistakes that it makes. In this visualization, we show examples\n",
        "# of images that are misclassified by our current system. The first column\n",
        "# shows images that our system labeled as \"plane\" but whose true label is\n",
        "# something other than \"plane\".\n",
        "\n",
        "examples_per_class = 8\n",
        "classes = ['plane', 'car', 'bird', 'cat', 'deer', 'dog', 'frog', 'horse', 'ship', 'truck']\n",
        "for cls, cls_name in enumerate(classes):\n",
        "    idxs = np.where((y_test != cls) & (y_test_pred == cls))[0]\n",
        "    idxs = np.random.choice(idxs, examples_per_class, replace=False)\n",
        "    for i, idx in enumerate(idxs):\n",
        "        plt.subplot(examples_per_class, len(classes), i * len(classes) + cls + 1)\n",
        "        plt.imshow(X_test[idx].astype('uint8'))\n",
        "        plt.axis('off')\n",
        "        if i == 0:\n",
        "            plt.title(cls_name)\n",
        "plt.show()"
      ],
      "execution_count": 0,
      "outputs": []
    },
    {
      "cell_type": "markdown",
      "metadata": {
        "tags": [
          "pdf-inline"
        ],
        "id": "Mn_nkCrKHURw",
        "colab_type": "text"
      },
      "source": [
        "### Inline question 1:\n",
        "Describe the misclassification results that you see. Do they make sense?\n",
        "\n",
        "\n",
        "$\\color{blue}{\\textit Your Answer:}$\n",
        "\n",
        "\n"
      ]
    },
    {
      "cell_type": "markdown",
      "metadata": {
        "id": "5H9YXbT0HURz",
        "colab_type": "text"
      },
      "source": [
        "## Neural Network on image features\n",
        "Earlier in this assigment we saw that training a two-layer neural network on raw pixels achieved better classification performance than linear classifiers on raw pixels. In this notebook we have seen that linear classifiers on image features outperform linear classifiers on raw pixels. \n",
        "\n",
        "For completeness, we should also try training a neural network on image features. This approach should outperform all previous approaches: you should easily be able to achieve over 55% classification accuracy on the test set; our best model achieves about 60% classification accuracy."
      ]
    },
    {
      "cell_type": "code",
      "metadata": {
        "tags": [
          "pdf-ignore"
        ],
        "id": "tbf8u-1CHUR0",
        "colab_type": "code",
        "colab": {}
      },
      "source": [
        "# Preprocessing: Remove the bias dimension\n",
        "# Make sure to run this cell only ONCE\n",
        "print(X_train_feats.shape)\n",
        "X_train_feats = X_train_feats[:, :-1]\n",
        "X_val_feats = X_val_feats[:, :-1]\n",
        "X_test_feats = X_test_feats[:, :-1]\n",
        "\n",
        "print(X_train_feats.shape)"
      ],
      "execution_count": 0,
      "outputs": []
    },
    {
      "cell_type": "code",
      "metadata": {
        "tags": [
          "code"
        ],
        "id": "r4kC6t7_HUR2",
        "colab_type": "code",
        "colab": {}
      },
      "source": [
        "from cs231n.classifiers.neural_net import TwoLayerNet\n",
        "\n",
        "input_dim = X_train_feats.shape[1]\n",
        "hidden_dim = 500\n",
        "num_classes = 10\n",
        "\n",
        "net = TwoLayerNet(input_dim, hidden_dim, num_classes)\n",
        "best_net = None\n",
        "\n",
        "################################################################################\n",
        "# TODO: Train a two-layer neural network on image features. You may want to    #\n",
        "# cross-validate various parameters as in previous sections. Store your best   #\n",
        "# model in the best_net variable.                                              #\n",
        "################################################################################\n",
        "# *****START OF YOUR CODE (DO NOT DELETE/MODIFY THIS LINE)*****\n",
        "\n",
        "pass\n",
        "\n",
        "# *****END OF YOUR CODE (DO NOT DELETE/MODIFY THIS LINE)*****\n"
      ],
      "execution_count": 0,
      "outputs": []
    },
    {
      "cell_type": "code",
      "metadata": {
        "id": "G635hW3WHUR5",
        "colab_type": "code",
        "colab": {}
      },
      "source": [
        "# Run your best neural net classifier on the test set. You should be able\n",
        "# to get more than 55% accuracy.\n",
        "\n",
        "test_acc = (best_net.predict(X_test_feats) == y_test).mean()\n",
        "print(test_acc)"
      ],
      "execution_count": 0,
      "outputs": []
    }
  ]
}